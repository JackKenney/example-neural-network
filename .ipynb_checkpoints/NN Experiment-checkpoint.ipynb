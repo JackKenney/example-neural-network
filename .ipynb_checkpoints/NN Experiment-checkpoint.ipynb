{
 "cells": [
  {
   "cell_type": "markdown",
   "metadata": {},
   "source": [
    "# Neural Network Boolean Logic Classifier Example\n",
    "## Specify a neural network that implements the Boolean function:\n",
    "$$f (a, b, c, d) = ((¬a ∨ b) ∧ c) ∨ d$$\n",
    "\n",
    "Use only _one_ hidden layer. You may use either the tanh function for non-linearities, or the hard threshold function $g(z) = \\mathbb{1}_{z>\\tau }$ with a specified threshold $\\tau$. \n",
    "\n",
    "Assume that, for the inputs, a TRUE value is represented as 1, and a FALSE value is represented as -1. For the final output, assume a value higher than 0 counts as TRUE, and a value less than 0 counts as FALSE. Describe how you are approaching this translation problem."
   ]
  },
  {
   "cell_type": "code",
   "execution_count": 1,
   "metadata": {},
   "outputs": [],
   "source": [
    "import numpy as np"
   ]
  },
  {
   "cell_type": "markdown",
   "metadata": {},
   "source": [
    "## Hand-calculated example\n",
    "![Drawing](NN_drawing.jpg)"
   ]
  },
  {
   "cell_type": "markdown",
   "metadata": {},
   "source": [
    "# Code implementation\n",
    "## Helper functions"
   ]
  },
  {
   "cell_type": "code",
   "execution_count": 2,
   "metadata": {},
   "outputs": [],
   "source": [
    "def eval_inputs(a,b,c,d):\n",
    "    if ((a == -1 or b == 1) and c == 1) or d == 1:\n",
    "        return 1\n",
    "    return -1\n",
    "\n",
    "def create_boolean_data():\n",
    "    X = []\n",
    "    y = []\n",
    "    options  = [-1,1]\n",
    "    for a in options:\n",
    "        for b in options:\n",
    "            for c in options:\n",
    "                for d in options:\n",
    "                    curr = [1, a, b, c, d]  # this includes the bias term for simplicity\n",
    "                    X.append(curr)\n",
    "                    y.append([eval_inputs(a,b,c,d)])\n",
    "    return np.array(X), np.array(y)\n",
    "TAU = 0.5\n",
    "def h_thresh(h):\n",
    "    if h > TAU:\n",
    "        return 1\n",
    "    return 0\n",
    "\n",
    "def f_thresh(y):\n",
    "    if y > 0:\n",
    "        return 1\n",
    "    return -1"
   ]
  },
  {
   "cell_type": "markdown",
   "metadata": {},
   "source": [
    "## Main code"
   ]
  },
  {
   "cell_type": "code",
   "execution_count": 3,
   "metadata": {},
   "outputs": [
    {
     "name": "stdout",
     "output_type": "stream",
     "text": [
      "Model accurately describes 16 out of 16 classes!\n"
     ]
    }
   ],
   "source": [
    "X, y = create_boolean_data()\n",
    "# initialize weight matrices\n",
    "# weights between input and hidden layers\n",
    "A = np.array([\n",
    "    [0.6, -1, 1, 0, 0],\n",
    "    [0, 0, 0, 1, 0],\n",
    "    [0, 0, 0, 0, 1]\n",
    "])  # [3x5] matrix\n",
    "# weights between hidden and output layers\n",
    "B = np.array([\n",
    "    [-1, 1, 1, 2]\n",
    "]) # [1x4] matrix\n",
    "\n",
    "# iterate through data (this can be vectorized but is explicit for ease of understanding)\n",
    "correct = 0 # for assessment of scoring\n",
    "for example in range(X.shape[0]): # assess one example at a time\n",
    "    x = X[example]\n",
    "    # hidden layer\n",
    "    h = np.dot(A,x)  # produce raw hidden layer values\n",
    "    h = np.vectorize(h_thresh)(h) # apply thresholding function\n",
    "    h = np.insert(h, 0, 1, axis=0) # insert bias at top of h\n",
    "    # generate output\n",
    "    y_hat = np.dot(B, h)  # produce raw output\n",
    "    y_hat = np.sum(y_hat) # integrate inputs\n",
    "    y_hat = np.vectorize(f_thresh)(y_hat) # apply final classification thresholding function\n",
    "    # log if correct\n",
    "    if y_hat == y[example][0]:\n",
    "        correct += 1\n",
    "\n",
    "print('Model accurately describes', correct, 'out of', X.shape[0],'classes!')"
   ]
  }
 ],
 "metadata": {
  "kernelspec": {
   "display_name": "Python 3",
   "language": "python",
   "name": "python3"
  },
  "language_info": {
   "codemirror_mode": {
    "name": "ipython",
    "version": 3
   },
   "file_extension": ".py",
   "mimetype": "text/x-python",
   "name": "python",
   "nbconvert_exporter": "python",
   "pygments_lexer": "ipython3",
   "version": "3.7.1"
  }
 },
 "nbformat": 4,
 "nbformat_minor": 2
}
